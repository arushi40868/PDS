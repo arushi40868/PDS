{
 "cells": [
  {
   "cell_type": "markdown",
   "metadata": {},
   "source": [
    "# Estimating Labor Market Returns to Education\n",
    "\n",
    "In this exercise, we're going to use data from the [American Communities Survey (ACS)](https://usa.ipums.org/usa/acs.shtml) to study the relationship betwen educational attainment and wages. The ACS is a survey conducted by the United States Census Bureau (though it is not \"The Census,\" which is a counting of every person in the United States that takes place every 10 years) to measure numerous features of the US population. The data we will be working with includes about 100 variables from the 2017 ACS survey, and is a 10% sample of the ACS (which itself is a 1% sample of the US population, so we're working with about a 0.1% sample of the United States). \n",
    "\n",
    "This data comes from [IPUMS](https://usa.ipums.org/usa/), which provides a very useful tool for getting subsets of major survey datasets, not just from the US, but [from government statistical agencies the world over](https://international.ipums.org/international-action/sample_details).\n",
    "\n",
    "This is *real* data, meaning that you are being provided the data as it is provided by IPUMS. Documentation for all variables used in this data can be found [here](https://usa.ipums.org/usa-action/variables/group) (you can either search by variable name to figure out the meaning of a variable in this data, or search for something you want to see if a variable with the right name is in this data). \n",
    "\n",
    "Within this data is information on both the educational background and current earnings of a representative sample of Americans. We will now use this data to estimate the labor-market returns to graduating high school and college, and to learn something about the meaning of an educational degree. "
   ]
  },
  {
   "cell_type": "markdown",
   "metadata": {},
   "source": [
    "## Gradescope Autograding\n",
    "\n",
    "Please follow [all standard guidance](https://www.practicaldatascience.org/ids720_specific/autograder_guidelines.html) for submitting this assignment to the Gradescope autograder, including storing your solutions in a dictionary called `results` and ensuring your notebook runs from the start to completion without any errors.\n",
    "\n",
    "For this assignment, please name your file `exercise_dataframes.ipynb` before uploading.\n",
    "\n",
    "You can check that you have answers for all questions in your `results` dictionary with this code:\n",
    "\n",
    "```python\n",
    "assert set(results.keys()) == {\n",
    "    \"ex2_num_obs\",\n",
    "    \"ex3_num_vars\",\n",
    "    \"ex8_updated_num_obs\",\n",
    "    \"ex9_updated_num_obs\",\n",
    "    \"ex11_grade12_income\",\n",
    "    \"ex12_college_income\",\n",
    "    \"ex12_college_income_pct\",\n",
    "    \"ex14_high_school_dropout\",\n",
    "    \"ex15_grade_9\",\n",
    "    \"ex15_grade_10\",\n",
    "    \"ex15_grade_11\",\n",
    "    \"ex15_grade_12\",\n",
    "    \"ex15_4_years_of_college\",\n",
    "    \"ex15_graduate\",\n",
    "}\n",
    "```\n",
    "\n",
    "### Submission Limits\n",
    "\n",
    "Please remember that you are **only allowed three submissions to the autograder.** Your last submission (if you submit 3 or fewer times), or your third submission (if you submit more than 3 times) will determine your grade Submissions that error out will **not** count against this total.\n"
   ]
  },
  {
   "cell_type": "code",
   "execution_count": 1,
   "metadata": {},
   "outputs": [],
   "source": [
    "import pandas as pd\n",
    "import numpy as np"
   ]
  },
  {
   "cell_type": "markdown",
   "metadata": {},
   "source": [
    "## Exercises"
   ]
  },
  {
   "cell_type": "markdown",
   "metadata": {},
   "source": [
    "### Exercise 1\n",
    "\n",
    "Data for these [exercises can be found here](https://github.com/nickeubank/MIDS_Data/tree/master/US_AmericanCommunitySurvey). \n",
    "\n",
    "Import `US_ACS_2017_10pct_sample.dta` into a pandas DataFrame (read it directly from a URL to help the autograder, please). \n",
    "\n",
    "This can be done with the command `pd.read_stata`, which will read in files created in the program Stata (and which uses the file suffix `.dta`). This is a format commonly used by social scientists."
   ]
  },
  {
   "cell_type": "code",
   "execution_count": 2,
   "metadata": {},
   "outputs": [
    {
     "name": "stdout",
     "output_type": "stream",
     "text": [
      "   year  datanum   serial      cbserial          numprec subsamp  hhwt  \\\n",
      "0  2017        1   177686  2.017001e+12                9      64    55   \n",
      "1  2017        1  1200045  2.017001e+12                6      79    25   \n",
      "2  2017        1    70831  2.017000e+12  1 person record      36    57   \n",
      "3  2017        1   557128  2.017001e+12                2      10    98   \n",
      "4  2017        1   614890  2.017001e+12                4      96    54   \n",
      "\n",
      "                                   hhtype       cluster    adjust  ...  \\\n",
      "0  female householder, no husband present  2.017002e+12  1.011189  ...   \n",
      "1       male householder, no wife present  2.017012e+12  1.011189  ...   \n",
      "2          male householder, living alone  2.017001e+12  1.011189  ...   \n",
      "3         married-couple family household  2.017006e+12  1.011189  ...   \n",
      "4         married-couple family household  2.017006e+12  1.011189  ...   \n",
      "\n",
      "   migcounty1                 migmet131 vetdisab                   diffrem  \\\n",
      "0           0  not in identifiable area      n/a                       n/a   \n",
      "1           0  not in identifiable area      n/a   no cognitive difficulty   \n",
      "2           0  not in identifiable area      n/a  has cognitive difficulty   \n",
      "3           0  not in identifiable area      n/a   no cognitive difficulty   \n",
      "4           0  not in identifiable area      n/a                       n/a   \n",
      "\n",
      "                   diffphys                           diffmob diffcare  \\\n",
      "0                       n/a                               n/a      n/a   \n",
      "1  no ambulatory difficulty  no independent living difficulty       no   \n",
      "2  no ambulatory difficulty  no independent living difficulty       no   \n",
      "3  no ambulatory difficulty  no independent living difficulty       no   \n",
      "4                       n/a                               n/a      n/a   \n",
      "\n",
      "                          diffsens  diffeye  diffhear  \n",
      "0  no vision or hearing difficulty       no        no  \n",
      "1  no vision or hearing difficulty       no        no  \n",
      "2  no vision or hearing difficulty       no        no  \n",
      "3  no vision or hearing difficulty       no        no  \n",
      "4  no vision or hearing difficulty       no        no  \n",
      "\n",
      "[5 rows x 104 columns]\n"
     ]
    }
   ],
   "source": [
    "url = \"https://github.com/nickeubank/MIDS_Data/raw/master/US_AmericanCommunitySurvey/US_ACS_2017_10pct_sample.dta\"\n",
    "df_ipums = pd.read_stata(url)\n",
    "\n",
    "print(df_ipums.head())"
   ]
  },
  {
   "cell_type": "markdown",
   "metadata": {},
   "source": [
    "## Getting to Know Your Data\n",
    "\n",
    "When you get a new dataset like this, it's good to start by trying to get a feel for its contents and organization. Toy datasets you sometimes get in classes are often very small, and easy to look at, but this is a pretty large dataset, so you can't just open it up and get a good sense of it. Here are some ways to get to know your data. "
   ]
  },
  {
   "cell_type": "markdown",
   "metadata": {},
   "source": [
    "### Exercise 2\n",
    "\n",
    "How many observations are in your data? Store the answer in your `results` dictionary with the key `\"ex2_num_obs\"`."
   ]
  },
  {
   "cell_type": "code",
   "execution_count": 3,
   "metadata": {},
   "outputs": [
    {
     "name": "stdout",
     "output_type": "stream",
     "text": [
      "There are 33176416 observations in the data\n"
     ]
    }
   ],
   "source": [
    "results = {}\n",
    "results[\"ex2_num_obs\"] = df_ipums.size\n",
    "print(f\"There are {df_ipums.size} observations in the data\")"
   ]
  },
  {
   "cell_type": "markdown",
   "metadata": {},
   "source": [
    "### Exercise 3\n",
    "\n",
    "How many variables are in your data? Store the answer in your `results` dictionary with the key `\"ex3_num_vars\"`."
   ]
  },
  {
   "cell_type": "code",
   "execution_count": 4,
   "metadata": {},
   "outputs": [
    {
     "name": "stdout",
     "output_type": "stream",
     "text": [
      "{'ex2_num_obs': 33176416, 'ex3_num_vars': 104}\n",
      "There are 104 variables in the data\n"
     ]
    }
   ],
   "source": [
    "results[\"ex3_num_vars\"] = len(df_ipums.columns)\n",
    "print(results)\n",
    "print(f\"There are {len(df_ipums.columns)} variables in the data\")"
   ]
  },
  {
   "cell_type": "markdown",
   "metadata": {},
   "source": [
    "### Exercise 4\n",
    "\n",
    " Let's see what variables are in this dataset. First, try to see them all using the command:\n",
    "\n",
    "\n",
    "```python\n",
    "acs.columns\n",
    "```"
   ]
  },
  {
   "cell_type": "code",
   "execution_count": 5,
   "metadata": {},
   "outputs": [
    {
     "data": {
      "text/plain": [
       "Index(['year', 'datanum', 'serial', 'cbserial', 'numprec', 'subsamp', 'hhwt',\n",
       "       'hhtype', 'cluster', 'adjust',\n",
       "       ...\n",
       "       'migcounty1', 'migmet131', 'vetdisab', 'diffrem', 'diffphys', 'diffmob',\n",
       "       'diffcare', 'diffsens', 'diffeye', 'diffhear'],\n",
       "      dtype='object', length=104)"
      ]
     },
     "execution_count": 5,
     "metadata": {},
     "output_type": "execute_result"
    }
   ],
   "source": [
    "df_ipums.columns"
   ]
  },
  {
   "cell_type": "markdown",
   "metadata": {},
   "source": [
    "As you will see, `python` doesn't like to print out all the different variables when there are this many in a dataset. \n",
    "\n",
    "To get everything printed out, we can loop over all the columns and print them one at a time with the command:\n",
    "\n",
    "```\n",
    "for c in acs.columns: print(c)\n",
    "```\n",
    "\n",
    "It's definitely a bit of a hack, but honestly a pretty useful one!"
   ]
  },
  {
   "cell_type": "code",
   "execution_count": 6,
   "metadata": {},
   "outputs": [
    {
     "name": "stdout",
     "output_type": "stream",
     "text": [
      "year\n",
      "datanum\n",
      "serial\n",
      "cbserial\n",
      "numprec\n",
      "subsamp\n",
      "hhwt\n",
      "hhtype\n",
      "cluster\n",
      "adjust\n",
      "cpi99\n",
      "region\n",
      "stateicp\n",
      "statefip\n",
      "countyicp\n",
      "countyfip\n",
      "metro\n",
      "city\n",
      "citypop\n",
      "strata\n",
      "gq\n",
      "farm\n",
      "ownershp\n",
      "ownershpd\n",
      "mortgage\n",
      "mortgag2\n",
      "mortamt1\n",
      "mortamt2\n",
      "respmode\n",
      "pernum\n",
      "cbpernum\n",
      "perwt\n",
      "slwt\n",
      "famunit\n",
      "sex\n",
      "age\n",
      "marst\n",
      "birthyr\n",
      "race\n",
      "raced\n",
      "hispan\n",
      "hispand\n",
      "bpl\n",
      "bpld\n",
      "citizen\n",
      "yrnatur\n",
      "yrimmig\n",
      "language\n",
      "languaged\n",
      "speakeng\n",
      "hcovany\n",
      "hcovpriv\n",
      "hinsemp\n",
      "hinspur\n",
      "hinstri\n",
      "hcovpub\n",
      "hinscaid\n",
      "hinscare\n",
      "hinsva\n",
      "hinsihs\n",
      "school\n",
      "educ\n",
      "educd\n",
      "gradeatt\n",
      "gradeattd\n",
      "schltype\n",
      "degfield\n",
      "degfieldd\n",
      "degfield2\n",
      "degfield2d\n",
      "empstat\n",
      "empstatd\n",
      "labforce\n",
      "occ\n",
      "ind\n",
      "classwkr\n",
      "classwkrd\n",
      "looking\n",
      "availble\n",
      "inctot\n",
      "ftotinc\n",
      "incwage\n",
      "incbus00\n",
      "incss\n",
      "incwelfr\n",
      "incinvst\n",
      "incretir\n",
      "incsupp\n",
      "incother\n",
      "incearn\n",
      "poverty\n",
      "migrate1\n",
      "migrate1d\n",
      "migplac1\n",
      "migcounty1\n",
      "migmet131\n",
      "vetdisab\n",
      "diffrem\n",
      "diffphys\n",
      "diffmob\n",
      "diffcare\n",
      "diffsens\n",
      "diffeye\n",
      "diffhear\n"
     ]
    }
   ],
   "source": [
    "for c in df_ipums.columns:\n",
    "    print(c)"
   ]
  },
  {
   "cell_type": "markdown",
   "metadata": {},
   "source": [
    "### Exercise 5\n",
    "\n",
    "That's a *lot* of variables, and definitely more than we need. In general, life is easier when working with these kinds of huge datasets if you can narrow down the number of variables a little. In this exercise, we will be looking at the relationship between education and wages, we need variables for: \n",
    "\n",
    "- Age\n",
    "- Income\n",
    "- Education\n",
    "- Employment status (is the person actually working)\n",
    "\n",
    "These quantities of interest correspond to the following variables in our data: `age`, `inctot`, `educ`, and `empstat`. \n",
    "\n",
    "Subset your data to just those variables. "
   ]
  },
  {
   "cell_type": "code",
   "execution_count": 7,
   "metadata": {},
   "outputs": [
    {
     "name": "stdout",
     "output_type": "stream",
     "text": [
      "       age   inctot                       educ             empstat\n",
      "0        4  9999999  nursery school to grade 4                 n/a\n",
      "1       17     6000                   grade 11            employed\n",
      "2       63     6150         4 years of college            employed\n",
      "3       66    14000                   grade 12  not in labor force\n",
      "4        1  9999999        n/a or no schooling                 n/a\n",
      "...     ..      ...                        ...                 ...\n",
      "318999  33    22130         4 years of college            employed\n",
      "319000   4  9999999  nursery school to grade 4                 n/a\n",
      "319001  20     5000                   grade 12            employed\n",
      "319002  47   240000        5+ years of college            employed\n",
      "319003  33    48000        5+ years of college            employed\n",
      "\n",
      "[319004 rows x 4 columns]\n"
     ]
    }
   ],
   "source": [
    "df_ipums_subset = df_ipums.loc[:, [\"age\", \"inctot\", \"educ\", \"empstat\"]]\n",
    "print(df_ipums_subset)"
   ]
  },
  {
   "cell_type": "markdown",
   "metadata": {},
   "source": [
    "### Exercise 6 \n",
    "\n",
    "Now that we have a more manageable number of variables, it's often very useful to look at a handful of rows of your data. The easiest way to do this is probably the `.head()` method (which will show you the first five rows), or the `tail()` method, which will show you the last five rows. \n",
    "\n",
    "But to get a good sense of your data, it's often better to use the `sample()` command, which returns a random set of rows. As the first and last rows are sometimes not representative, a random set of rows can be very helpful. Try looking at a random sample of 20 rows (note: you don't have to run `.sample()` ten times to get ten rows. Look at the `.sample` help file if you're stuck. "
   ]
  },
  {
   "cell_type": "code",
   "execution_count": 8,
   "metadata": {},
   "outputs": [
    {
     "name": "stdout",
     "output_type": "stream",
     "text": [
      "       age   inctot                       educ             empstat\n",
      "104198  32    55000         4 years of college            employed\n",
      "117366  63    19000          1 year of college  not in labor force\n",
      "121934   5  9999999  nursery school to grade 4                 n/a\n",
      "87683   61    10800         4 years of college  not in labor force\n",
      "232849  70    18800         2 years of college  not in labor force\n",
      "290106  55     7500                   grade 12            employed\n",
      "91426   45    22100        n/a or no schooling  not in labor force\n",
      "230573   1  9999999        n/a or no schooling                 n/a\n",
      "166790  71    33420                   grade 12  not in labor force\n",
      "313386  78    18600                   grade 12  not in labor force\n",
      "72756    5  9999999  nursery school to grade 4                 n/a\n",
      "151442   9  9999999  nursery school to grade 4                 n/a\n",
      "268349   8  9999999  nursery school to grade 4                 n/a\n",
      "249684  66    14200                   grade 12  not in labor force\n",
      "187515  10  9999999        grade 5, 6, 7, or 8                 n/a\n",
      "243729  54    13500                   grade 12            employed\n",
      "259482  56    83000                   grade 12            employed\n",
      "243619  13  9999999        grade 5, 6, 7, or 8                 n/a\n",
      "54474   13  9999999        grade 5, 6, 7, or 8                 n/a\n",
      "217330  70    59600         4 years of college  not in labor force\n"
     ]
    }
   ],
   "source": [
    "print(df_ipums_subset.sample(20))"
   ]
  },
  {
   "cell_type": "markdown",
   "metadata": {},
   "source": [
    "### Exercise 7\n",
    "\n",
    "Do you see any immediate problems? What issues do you see? (Please do answer in markdown)"
   ]
  },
  {
   "cell_type": "markdown",
   "metadata": {},
   "source": [
    "Some ages are listed as strings with words rather than just numbers, the educ column has descriptions that may not be very usable for data analysis, and the empstat column has multiple NA entries. Also some children less than a year old are listed as having incomes of over $9,999,999."
   ]
  },
  {
   "cell_type": "markdown",
   "metadata": {},
   "source": [
    "### Exercise 8 \n",
    "\n",
    "One problem is that many people seem to have incomes of $9,999,999. Moreover, people with those incomes seem to be very young children. \n",
    "\n",
    "What you are seeing is one method (a relatively old one) for representing missing data. In this case, the value 9999999 is being used as a **sentinel value** — a way to denote missing data that was used back in the day when there was no way to add a special data type for missing data. In this case, it identifies observations where the person is too young to work, so their income value is missing. \n",
    "\n",
    "So let's begin by dropping anyone who has `inctot` equal to 9999999.\n",
    "\n",
    "After dropping, how many observations do you have? Save your answer in your `results` dictionary under the key `\"ex8_updated_num_obs\"`"
   ]
  },
  {
   "cell_type": "code",
   "execution_count": 9,
   "metadata": {},
   "outputs": [
    {
     "name": "stdout",
     "output_type": "stream",
     "text": [
      "After dropping all inctot values of 9999999, we have 1060412 observations\n"
     ]
    }
   ],
   "source": [
    "df_ipums_subset = df_ipums_subset[df_ipums_subset[\"inctot\"] != 9999999]\n",
    "results[\"ex8_updated_num_obs\"] = df_ipums_subset.size\n",
    "print(\n",
    "    f\"After dropping all inctot values of 9999999, we have {df_ipums_subset.size} observations\"\n",
    ")"
   ]
  },
  {
   "cell_type": "markdown",
   "metadata": {},
   "source": [
    "### Exercise 9\n",
    "\n",
    "OK, the other potential problem is that our data includes lots of people who are unemployed and people who are not in the labor force (this means they not only don't have a job, but also aren't looking for a job). For this analysis, we want to focus on the wages of people who are currently employed. So subset the dataset for the people for whom `empstat` is equal to \"employed\". \n",
    "\n",
    "Note that our decision to only look at people who are employed impacts how we should interpret the relationship we estimate between education and income. Because we are only looking at employed people, we will be estimating the relationship between education and income *for people who are employed*. That means that if education affects the *likelihood* someone is employed, we won't capture that in this analysis.\n",
    "\n",
    "(You might also want to run `.sample()` after this just to make sure you were successful in your subsetting).\n",
    "\n",
    "After this subsetting, how many observations do you have? Save your answer in your `results` dictionary under the key `\"ex9_updated_num_obs\"`"
   ]
  },
  {
   "cell_type": "code",
   "execution_count": 10,
   "metadata": {},
   "outputs": [
    {
     "name": "stdout",
     "output_type": "stream",
     "text": [
      "After subsetting for employed people, we have 595032 observations\n"
     ]
    }
   ],
   "source": [
    "df_ipums_subset = df_ipums_subset[df_ipums_subset[\"empstat\"] == \"employed\"]\n",
    "results[\"ex9_updated_num_obs\"] = df_ipums_subset.size\n",
    "df_ipums_subset.sample(10)\n",
    "print(\n",
    "    f\"After subsetting for employed people, we have {df_ipums_subset.size} observations\"\n",
    ")"
   ]
  },
  {
   "cell_type": "markdown",
   "metadata": {},
   "source": [
    "### Exercise 10\n",
    "\n",
    "Now let's turn to education. The `educ` variable seems to have a lot of discrete values. Let's see what values exist, and their distribution, using the `value_counts()` method. This is an *extremely* useful tool you'll use a lot! Try the following code (modified for the name of your dataset, of course):\n",
    "\n",
    "```python\n",
    "acs[\"educ\"].value_counts()\n",
    "```"
   ]
  },
  {
   "cell_type": "code",
   "execution_count": 11,
   "metadata": {},
   "outputs": [
    {
     "data": {
      "application/vnd.microsoft.datawrangler.viewer.v0+json": {
       "columns": [
        {
         "name": "educ",
         "rawType": "category",
         "type": "unknown"
        },
        {
         "name": "count",
         "rawType": "int64",
         "type": "integer"
        }
       ],
       "ref": "489ce569-ad4c-45cb-a863-2838dd442fb8",
       "rows": [
        [
         "grade 12",
         "47815"
        ],
        [
         "4 years of college",
         "33174"
        ],
        [
         "1 year of college",
         "22899"
        ],
        [
         "5+ years of college",
         "20995"
        ],
        [
         "2 years of college",
         "14077"
        ],
        [
         "grade 11",
         "2747"
        ],
        [
         "grade 5, 6, 7, or 8",
         "2092"
        ],
        [
         "grade 10",
         "1910"
        ],
        [
         "n/a or no schooling",
         "1291"
        ],
        [
         "grade 9",
         "1290"
        ],
        [
         "nursery school to grade 4",
         "468"
        ]
       ],
       "shape": {
        "columns": 1,
        "rows": 11
       }
      },
      "text/plain": [
       "educ\n",
       "grade 12                     47815\n",
       "4 years of college           33174\n",
       "1 year of college            22899\n",
       "5+ years of college          20995\n",
       "2 years of college           14077\n",
       "grade 11                      2747\n",
       "grade 5, 6, 7, or 8           2092\n",
       "grade 10                      1910\n",
       "n/a or no schooling           1291\n",
       "grade 9                       1290\n",
       "nursery school to grade 4      468\n",
       "Name: count, dtype: int64"
      ]
     },
     "execution_count": 11,
     "metadata": {},
     "output_type": "execute_result"
    }
   ],
   "source": [
    "df_ipums_subset[\"educ\"].value_counts()"
   ]
  },
  {
   "cell_type": "markdown",
   "metadata": {},
   "source": [
    "### Exercise 11\n",
    "\n",
    "There are a lot of values in here, so let's just check a couple. What is the average value of `inctot` for people whose highest grade level is \"grade 12\" (in the US, that is someone who has graduated high school)?\n",
    "\n",
    "Save your answer in your `results` dictionary under the key `\"ex11_grade12_income\"`."
   ]
  },
  {
   "cell_type": "code",
   "execution_count": 12,
   "metadata": {},
   "outputs": [
    {
     "name": "stdout",
     "output_type": "stream",
     "text": [
      "The average value of inctot for high school graduates (who have not attended college) is $38957.76\n"
     ]
    }
   ],
   "source": [
    "grade12_avg_income = np.mean(\n",
    "    df_ipums_subset[df_ipums_subset[\"educ\"] == (\"grade 12\")][\"inctot\"]\n",
    ")\n",
    "results[\"ex11_grade12_income\"] = grade12_avg_income\n",
    "print(\n",
    "    f\"The average value of inctot for high school graduates (who have not attended college) is ${grade12_avg_income:.2f}\"\n",
    ")"
   ]
  },
  {
   "cell_type": "markdown",
   "metadata": {},
   "source": [
    "### Exercise 12\n",
    "\n",
    "What is the average income of someone who has completed an undergraduate degree but not done any postgraduate education (\"4 years of college\")? \n",
    "\n",
    "Save your answer in your `results` dictionary under the key `\"ex12_college_income\"`.\n",
    "\n",
    "In percentage terms, how much does an employed college graduate earn as compared to someone who is only a high school graduate? Use the reference category that gives an answer above 100.\n",
    "\n",
    "Store your answer in `\"ex12_college_income_pct\"`. Put your answer in percentage terms (so 100 implies they earn the same amount).\n",
    "\n",
    "*Make sure to interpret your result in words when you print it out!*"
   ]
  },
  {
   "cell_type": "code",
   "execution_count": 13,
   "metadata": {},
   "outputs": [
    {
     "name": "stdout",
     "output_type": "stream",
     "text": [
      "75485.05293301983\n",
      "193.7612727527617\n",
      "36527.292251225415\n",
      "The average income of someone who has completed an undergraduate degree but has not done any postgraduate education is $75485.05293301983\n",
      "Employed college graduates earn 193.761% of the total income of only a high school graduate\n"
     ]
    }
   ],
   "source": [
    "college_only_avg_income = np.mean(\n",
    "    df_ipums_subset[df_ipums_subset[\"educ\"] == (\"4 years of college\")][\"inctot\"]\n",
    ")\n",
    "print(college_only_avg_income)\n",
    "results[\"ex12_college_income_pct\"] = college_only_avg_income * 100 / grade12_avg_income\n",
    "print(college_only_avg_income * 100 / grade12_avg_income)\n",
    "print(college_only_avg_income - grade12_avg_income)\n",
    "print(\n",
    "    f\"The average income of someone who has completed an undergraduate degree but has not done any postgraduate education is ${college_only_avg_income}\"\n",
    ")\n",
    "print(\n",
    "    f\"Employed college graduates earn {results['ex12_college_income_pct']:.3f}% of the total income of only a high school graduate\"\n",
    ")"
   ]
  },
  {
   "cell_type": "markdown",
   "metadata": {},
   "source": [
    "\n",
    "### Exercise 13\n",
    "What does that suggest is the value of getting a college degree after graduating high school?"
   ]
  },
  {
   "cell_type": "markdown",
   "metadata": {},
   "source": [
    "The value of getting a college degree after graduating highschool is an additional average income of 93.76%, or about $36527.29 in average income."
   ]
  },
  {
   "cell_type": "markdown",
   "metadata": {},
   "source": [
    "### Exercise 14\n",
    "\n",
    "What is the average income for someone who has not finished high school? What does that suggest is the value of a high school diploma? (Treat `n/a or no schooling` as having no formal schooling, not as missing).\n",
    "\n",
    "**Hint:** You may find the [.isin()](https://pandas.pydata.org/pandas-docs/stable/reference/api/pandas.DataFrame.isin.html) method to be really helpful here.\n",
    "\n",
    "Save your answer in your `results` dictionary under the key `\"ex14_high_school_dropout\"`."
   ]
  },
  {
   "cell_type": "code",
   "execution_count": 14,
   "metadata": {},
   "outputs": [
    {
     "name": "stdout",
     "output_type": "stream",
     "text": [
      "The average income for someone who has not finished highschool is $32276.88\n",
      "This suggests that the value of a highschool diploma is about $6680.88 in average income\n"
     ]
    },
    {
     "data": {
      "application/vnd.microsoft.datawrangler.viewer.v0+json": {
       "columns": [
        {
         "name": "index",
         "rawType": "int64",
         "type": "integer"
        },
        {
         "name": "age",
         "rawType": "category",
         "type": "unknown"
        },
        {
         "name": "inctot",
         "rawType": "int32",
         "type": "integer"
        },
        {
         "name": "educ",
         "rawType": "category",
         "type": "unknown"
        },
        {
         "name": "empstat",
         "rawType": "category",
         "type": "unknown"
        }
       ],
       "ref": "63d9bf4f-e7fb-4326-8e56-6ccf1bf85a84",
       "rows": [
        [
         "297759",
         "65",
         "45200",
         "n/a or no schooling",
         "employed"
        ],
        [
         "40447",
         "52",
         "28700",
         "n/a or no schooling",
         "employed"
        ],
        [
         "118405",
         "31",
         "30000",
         "n/a or no schooling",
         "employed"
        ],
        [
         "201742",
         "61",
         "45000",
         "n/a or no schooling",
         "employed"
        ],
        [
         "157360",
         "20",
         "7500",
         "n/a or no schooling",
         "employed"
        ],
        [
         "26166",
         "46",
         "8000",
         "n/a or no schooling",
         "employed"
        ],
        [
         "120108",
         "75",
         "25900",
         "n/a or no schooling",
         "employed"
        ],
        [
         "215009",
         "35",
         "20200",
         "n/a or no schooling",
         "employed"
        ],
        [
         "234056",
         "41",
         "28000",
         "n/a or no schooling",
         "employed"
        ],
        [
         "239252",
         "53",
         "64000",
         "n/a or no schooling",
         "employed"
        ],
        [
         "99637",
         "64",
         "18400",
         "n/a or no schooling",
         "employed"
        ],
        [
         "256187",
         "39",
         "32000",
         "n/a or no schooling",
         "employed"
        ],
        [
         "233740",
         "22",
         "30000",
         "n/a or no schooling",
         "employed"
        ],
        [
         "197819",
         "46",
         "45000",
         "n/a or no schooling",
         "employed"
        ],
        [
         "188456",
         "47",
         "52000",
         "n/a or no schooling",
         "employed"
        ],
        [
         "5950",
         "35",
         "3600",
         "n/a or no schooling",
         "employed"
        ],
        [
         "168455",
         "35",
         "11200",
         "n/a or no schooling",
         "employed"
        ],
        [
         "274694",
         "59",
         "18200",
         "n/a or no schooling",
         "employed"
        ],
        [
         "243216",
         "39",
         "19800",
         "n/a or no schooling",
         "employed"
        ],
        [
         "216247",
         "53",
         "19200",
         "n/a or no schooling",
         "employed"
        ],
        [
         "263646",
         "53",
         "60000",
         "n/a or no schooling",
         "employed"
        ],
        [
         "65600",
         "46",
         "16000",
         "n/a or no schooling",
         "employed"
        ],
        [
         "78925",
         "24",
         "20000",
         "n/a or no schooling",
         "employed"
        ],
        [
         "19996",
         "50",
         "19000",
         "n/a or no schooling",
         "employed"
        ],
        [
         "201961",
         "50",
         "22000",
         "n/a or no schooling",
         "employed"
        ],
        [
         "32527",
         "56",
         "55000",
         "n/a or no schooling",
         "employed"
        ],
        [
         "262033",
         "67",
         "7200",
         "n/a or no schooling",
         "employed"
        ],
        [
         "203264",
         "27",
         "20800",
         "n/a or no schooling",
         "employed"
        ],
        [
         "98131",
         "39",
         "57000",
         "n/a or no schooling",
         "employed"
        ],
        [
         "288297",
         "59",
         "70000",
         "n/a or no schooling",
         "employed"
        ],
        [
         "4704",
         "48",
         "10000",
         "n/a or no schooling",
         "employed"
        ],
        [
         "59659",
         "64",
         "30000",
         "n/a or no schooling",
         "employed"
        ],
        [
         "273484",
         "52",
         "19200",
         "n/a or no schooling",
         "employed"
        ],
        [
         "237230",
         "27",
         "30000",
         "n/a or no schooling",
         "employed"
        ],
        [
         "3061",
         "50",
         "11000",
         "n/a or no schooling",
         "employed"
        ],
        [
         "129814",
         "45",
         "10000",
         "n/a or no schooling",
         "employed"
        ],
        [
         "91004",
         "55",
         "40000",
         "n/a or no schooling",
         "employed"
        ],
        [
         "210358",
         "43",
         "45000",
         "n/a or no schooling",
         "employed"
        ],
        [
         "210579",
         "56",
         "25000",
         "n/a or no schooling",
         "employed"
        ],
        [
         "136819",
         "55",
         "11000",
         "n/a or no schooling",
         "employed"
        ],
        [
         "109429",
         "54",
         "20800",
         "n/a or no schooling",
         "employed"
        ],
        [
         "124287",
         "41",
         "28100",
         "n/a or no schooling",
         "employed"
        ],
        [
         "249677",
         "53",
         "9000",
         "n/a or no schooling",
         "employed"
        ],
        [
         "126490",
         "50",
         "40000",
         "n/a or no schooling",
         "employed"
        ],
        [
         "47139",
         "61",
         "30300",
         "n/a or no schooling",
         "employed"
        ],
        [
         "243522",
         "53",
         "70000",
         "n/a or no schooling",
         "employed"
        ],
        [
         "278367",
         "50",
         "10000",
         "n/a or no schooling",
         "employed"
        ],
        [
         "38971",
         "55",
         "500",
         "n/a or no schooling",
         "employed"
        ],
        [
         "316608",
         "34",
         "45000",
         "n/a or no schooling",
         "employed"
        ],
        [
         "120096",
         "16",
         "2300",
         "n/a or no schooling",
         "employed"
        ]
       ],
       "shape": {
        "columns": 4,
        "rows": 50
       }
      },
      "text/html": [
       "<div>\n",
       "<style scoped>\n",
       "    .dataframe tbody tr th:only-of-type {\n",
       "        vertical-align: middle;\n",
       "    }\n",
       "\n",
       "    .dataframe tbody tr th {\n",
       "        vertical-align: top;\n",
       "    }\n",
       "\n",
       "    .dataframe thead th {\n",
       "        text-align: right;\n",
       "    }\n",
       "</style>\n",
       "<table border=\"1\" class=\"dataframe\">\n",
       "  <thead>\n",
       "    <tr style=\"text-align: right;\">\n",
       "      <th></th>\n",
       "      <th>age</th>\n",
       "      <th>inctot</th>\n",
       "      <th>educ</th>\n",
       "      <th>empstat</th>\n",
       "    </tr>\n",
       "  </thead>\n",
       "  <tbody>\n",
       "    <tr>\n",
       "      <th>297759</th>\n",
       "      <td>65</td>\n",
       "      <td>45200</td>\n",
       "      <td>n/a or no schooling</td>\n",
       "      <td>employed</td>\n",
       "    </tr>\n",
       "    <tr>\n",
       "      <th>40447</th>\n",
       "      <td>52</td>\n",
       "      <td>28700</td>\n",
       "      <td>n/a or no schooling</td>\n",
       "      <td>employed</td>\n",
       "    </tr>\n",
       "    <tr>\n",
       "      <th>118405</th>\n",
       "      <td>31</td>\n",
       "      <td>30000</td>\n",
       "      <td>n/a or no schooling</td>\n",
       "      <td>employed</td>\n",
       "    </tr>\n",
       "    <tr>\n",
       "      <th>201742</th>\n",
       "      <td>61</td>\n",
       "      <td>45000</td>\n",
       "      <td>n/a or no schooling</td>\n",
       "      <td>employed</td>\n",
       "    </tr>\n",
       "    <tr>\n",
       "      <th>157360</th>\n",
       "      <td>20</td>\n",
       "      <td>7500</td>\n",
       "      <td>n/a or no schooling</td>\n",
       "      <td>employed</td>\n",
       "    </tr>\n",
       "    <tr>\n",
       "      <th>26166</th>\n",
       "      <td>46</td>\n",
       "      <td>8000</td>\n",
       "      <td>n/a or no schooling</td>\n",
       "      <td>employed</td>\n",
       "    </tr>\n",
       "    <tr>\n",
       "      <th>120108</th>\n",
       "      <td>75</td>\n",
       "      <td>25900</td>\n",
       "      <td>n/a or no schooling</td>\n",
       "      <td>employed</td>\n",
       "    </tr>\n",
       "    <tr>\n",
       "      <th>215009</th>\n",
       "      <td>35</td>\n",
       "      <td>20200</td>\n",
       "      <td>n/a or no schooling</td>\n",
       "      <td>employed</td>\n",
       "    </tr>\n",
       "    <tr>\n",
       "      <th>234056</th>\n",
       "      <td>41</td>\n",
       "      <td>28000</td>\n",
       "      <td>n/a or no schooling</td>\n",
       "      <td>employed</td>\n",
       "    </tr>\n",
       "    <tr>\n",
       "      <th>239252</th>\n",
       "      <td>53</td>\n",
       "      <td>64000</td>\n",
       "      <td>n/a or no schooling</td>\n",
       "      <td>employed</td>\n",
       "    </tr>\n",
       "    <tr>\n",
       "      <th>99637</th>\n",
       "      <td>64</td>\n",
       "      <td>18400</td>\n",
       "      <td>n/a or no schooling</td>\n",
       "      <td>employed</td>\n",
       "    </tr>\n",
       "    <tr>\n",
       "      <th>256187</th>\n",
       "      <td>39</td>\n",
       "      <td>32000</td>\n",
       "      <td>n/a or no schooling</td>\n",
       "      <td>employed</td>\n",
       "    </tr>\n",
       "    <tr>\n",
       "      <th>233740</th>\n",
       "      <td>22</td>\n",
       "      <td>30000</td>\n",
       "      <td>n/a or no schooling</td>\n",
       "      <td>employed</td>\n",
       "    </tr>\n",
       "    <tr>\n",
       "      <th>197819</th>\n",
       "      <td>46</td>\n",
       "      <td>45000</td>\n",
       "      <td>n/a or no schooling</td>\n",
       "      <td>employed</td>\n",
       "    </tr>\n",
       "    <tr>\n",
       "      <th>188456</th>\n",
       "      <td>47</td>\n",
       "      <td>52000</td>\n",
       "      <td>n/a or no schooling</td>\n",
       "      <td>employed</td>\n",
       "    </tr>\n",
       "    <tr>\n",
       "      <th>5950</th>\n",
       "      <td>35</td>\n",
       "      <td>3600</td>\n",
       "      <td>n/a or no schooling</td>\n",
       "      <td>employed</td>\n",
       "    </tr>\n",
       "    <tr>\n",
       "      <th>168455</th>\n",
       "      <td>35</td>\n",
       "      <td>11200</td>\n",
       "      <td>n/a or no schooling</td>\n",
       "      <td>employed</td>\n",
       "    </tr>\n",
       "    <tr>\n",
       "      <th>274694</th>\n",
       "      <td>59</td>\n",
       "      <td>18200</td>\n",
       "      <td>n/a or no schooling</td>\n",
       "      <td>employed</td>\n",
       "    </tr>\n",
       "    <tr>\n",
       "      <th>243216</th>\n",
       "      <td>39</td>\n",
       "      <td>19800</td>\n",
       "      <td>n/a or no schooling</td>\n",
       "      <td>employed</td>\n",
       "    </tr>\n",
       "    <tr>\n",
       "      <th>216247</th>\n",
       "      <td>53</td>\n",
       "      <td>19200</td>\n",
       "      <td>n/a or no schooling</td>\n",
       "      <td>employed</td>\n",
       "    </tr>\n",
       "    <tr>\n",
       "      <th>263646</th>\n",
       "      <td>53</td>\n",
       "      <td>60000</td>\n",
       "      <td>n/a or no schooling</td>\n",
       "      <td>employed</td>\n",
       "    </tr>\n",
       "    <tr>\n",
       "      <th>65600</th>\n",
       "      <td>46</td>\n",
       "      <td>16000</td>\n",
       "      <td>n/a or no schooling</td>\n",
       "      <td>employed</td>\n",
       "    </tr>\n",
       "    <tr>\n",
       "      <th>78925</th>\n",
       "      <td>24</td>\n",
       "      <td>20000</td>\n",
       "      <td>n/a or no schooling</td>\n",
       "      <td>employed</td>\n",
       "    </tr>\n",
       "    <tr>\n",
       "      <th>19996</th>\n",
       "      <td>50</td>\n",
       "      <td>19000</td>\n",
       "      <td>n/a or no schooling</td>\n",
       "      <td>employed</td>\n",
       "    </tr>\n",
       "    <tr>\n",
       "      <th>201961</th>\n",
       "      <td>50</td>\n",
       "      <td>22000</td>\n",
       "      <td>n/a or no schooling</td>\n",
       "      <td>employed</td>\n",
       "    </tr>\n",
       "    <tr>\n",
       "      <th>32527</th>\n",
       "      <td>56</td>\n",
       "      <td>55000</td>\n",
       "      <td>n/a or no schooling</td>\n",
       "      <td>employed</td>\n",
       "    </tr>\n",
       "    <tr>\n",
       "      <th>262033</th>\n",
       "      <td>67</td>\n",
       "      <td>7200</td>\n",
       "      <td>n/a or no schooling</td>\n",
       "      <td>employed</td>\n",
       "    </tr>\n",
       "    <tr>\n",
       "      <th>203264</th>\n",
       "      <td>27</td>\n",
       "      <td>20800</td>\n",
       "      <td>n/a or no schooling</td>\n",
       "      <td>employed</td>\n",
       "    </tr>\n",
       "    <tr>\n",
       "      <th>98131</th>\n",
       "      <td>39</td>\n",
       "      <td>57000</td>\n",
       "      <td>n/a or no schooling</td>\n",
       "      <td>employed</td>\n",
       "    </tr>\n",
       "    <tr>\n",
       "      <th>288297</th>\n",
       "      <td>59</td>\n",
       "      <td>70000</td>\n",
       "      <td>n/a or no schooling</td>\n",
       "      <td>employed</td>\n",
       "    </tr>\n",
       "    <tr>\n",
       "      <th>4704</th>\n",
       "      <td>48</td>\n",
       "      <td>10000</td>\n",
       "      <td>n/a or no schooling</td>\n",
       "      <td>employed</td>\n",
       "    </tr>\n",
       "    <tr>\n",
       "      <th>59659</th>\n",
       "      <td>64</td>\n",
       "      <td>30000</td>\n",
       "      <td>n/a or no schooling</td>\n",
       "      <td>employed</td>\n",
       "    </tr>\n",
       "    <tr>\n",
       "      <th>273484</th>\n",
       "      <td>52</td>\n",
       "      <td>19200</td>\n",
       "      <td>n/a or no schooling</td>\n",
       "      <td>employed</td>\n",
       "    </tr>\n",
       "    <tr>\n",
       "      <th>237230</th>\n",
       "      <td>27</td>\n",
       "      <td>30000</td>\n",
       "      <td>n/a or no schooling</td>\n",
       "      <td>employed</td>\n",
       "    </tr>\n",
       "    <tr>\n",
       "      <th>3061</th>\n",
       "      <td>50</td>\n",
       "      <td>11000</td>\n",
       "      <td>n/a or no schooling</td>\n",
       "      <td>employed</td>\n",
       "    </tr>\n",
       "    <tr>\n",
       "      <th>129814</th>\n",
       "      <td>45</td>\n",
       "      <td>10000</td>\n",
       "      <td>n/a or no schooling</td>\n",
       "      <td>employed</td>\n",
       "    </tr>\n",
       "    <tr>\n",
       "      <th>91004</th>\n",
       "      <td>55</td>\n",
       "      <td>40000</td>\n",
       "      <td>n/a or no schooling</td>\n",
       "      <td>employed</td>\n",
       "    </tr>\n",
       "    <tr>\n",
       "      <th>210358</th>\n",
       "      <td>43</td>\n",
       "      <td>45000</td>\n",
       "      <td>n/a or no schooling</td>\n",
       "      <td>employed</td>\n",
       "    </tr>\n",
       "    <tr>\n",
       "      <th>210579</th>\n",
       "      <td>56</td>\n",
       "      <td>25000</td>\n",
       "      <td>n/a or no schooling</td>\n",
       "      <td>employed</td>\n",
       "    </tr>\n",
       "    <tr>\n",
       "      <th>136819</th>\n",
       "      <td>55</td>\n",
       "      <td>11000</td>\n",
       "      <td>n/a or no schooling</td>\n",
       "      <td>employed</td>\n",
       "    </tr>\n",
       "    <tr>\n",
       "      <th>109429</th>\n",
       "      <td>54</td>\n",
       "      <td>20800</td>\n",
       "      <td>n/a or no schooling</td>\n",
       "      <td>employed</td>\n",
       "    </tr>\n",
       "    <tr>\n",
       "      <th>124287</th>\n",
       "      <td>41</td>\n",
       "      <td>28100</td>\n",
       "      <td>n/a or no schooling</td>\n",
       "      <td>employed</td>\n",
       "    </tr>\n",
       "    <tr>\n",
       "      <th>249677</th>\n",
       "      <td>53</td>\n",
       "      <td>9000</td>\n",
       "      <td>n/a or no schooling</td>\n",
       "      <td>employed</td>\n",
       "    </tr>\n",
       "    <tr>\n",
       "      <th>126490</th>\n",
       "      <td>50</td>\n",
       "      <td>40000</td>\n",
       "      <td>n/a or no schooling</td>\n",
       "      <td>employed</td>\n",
       "    </tr>\n",
       "    <tr>\n",
       "      <th>47139</th>\n",
       "      <td>61</td>\n",
       "      <td>30300</td>\n",
       "      <td>n/a or no schooling</td>\n",
       "      <td>employed</td>\n",
       "    </tr>\n",
       "    <tr>\n",
       "      <th>243522</th>\n",
       "      <td>53</td>\n",
       "      <td>70000</td>\n",
       "      <td>n/a or no schooling</td>\n",
       "      <td>employed</td>\n",
       "    </tr>\n",
       "    <tr>\n",
       "      <th>278367</th>\n",
       "      <td>50</td>\n",
       "      <td>10000</td>\n",
       "      <td>n/a or no schooling</td>\n",
       "      <td>employed</td>\n",
       "    </tr>\n",
       "    <tr>\n",
       "      <th>38971</th>\n",
       "      <td>55</td>\n",
       "      <td>500</td>\n",
       "      <td>n/a or no schooling</td>\n",
       "      <td>employed</td>\n",
       "    </tr>\n",
       "    <tr>\n",
       "      <th>316608</th>\n",
       "      <td>34</td>\n",
       "      <td>45000</td>\n",
       "      <td>n/a or no schooling</td>\n",
       "      <td>employed</td>\n",
       "    </tr>\n",
       "    <tr>\n",
       "      <th>120096</th>\n",
       "      <td>16</td>\n",
       "      <td>2300</td>\n",
       "      <td>n/a or no schooling</td>\n",
       "      <td>employed</td>\n",
       "    </tr>\n",
       "  </tbody>\n",
       "</table>\n",
       "</div>"
      ],
      "text/plain": [
       "       age  inctot                 educ   empstat\n",
       "297759  65   45200  n/a or no schooling  employed\n",
       "40447   52   28700  n/a or no schooling  employed\n",
       "118405  31   30000  n/a or no schooling  employed\n",
       "201742  61   45000  n/a or no schooling  employed\n",
       "157360  20    7500  n/a or no schooling  employed\n",
       "26166   46    8000  n/a or no schooling  employed\n",
       "120108  75   25900  n/a or no schooling  employed\n",
       "215009  35   20200  n/a or no schooling  employed\n",
       "234056  41   28000  n/a or no schooling  employed\n",
       "239252  53   64000  n/a or no schooling  employed\n",
       "99637   64   18400  n/a or no schooling  employed\n",
       "256187  39   32000  n/a or no schooling  employed\n",
       "233740  22   30000  n/a or no schooling  employed\n",
       "197819  46   45000  n/a or no schooling  employed\n",
       "188456  47   52000  n/a or no schooling  employed\n",
       "5950    35    3600  n/a or no schooling  employed\n",
       "168455  35   11200  n/a or no schooling  employed\n",
       "274694  59   18200  n/a or no schooling  employed\n",
       "243216  39   19800  n/a or no schooling  employed\n",
       "216247  53   19200  n/a or no schooling  employed\n",
       "263646  53   60000  n/a or no schooling  employed\n",
       "65600   46   16000  n/a or no schooling  employed\n",
       "78925   24   20000  n/a or no schooling  employed\n",
       "19996   50   19000  n/a or no schooling  employed\n",
       "201961  50   22000  n/a or no schooling  employed\n",
       "32527   56   55000  n/a or no schooling  employed\n",
       "262033  67    7200  n/a or no schooling  employed\n",
       "203264  27   20800  n/a or no schooling  employed\n",
       "98131   39   57000  n/a or no schooling  employed\n",
       "288297  59   70000  n/a or no schooling  employed\n",
       "4704    48   10000  n/a or no schooling  employed\n",
       "59659   64   30000  n/a or no schooling  employed\n",
       "273484  52   19200  n/a or no schooling  employed\n",
       "237230  27   30000  n/a or no schooling  employed\n",
       "3061    50   11000  n/a or no schooling  employed\n",
       "129814  45   10000  n/a or no schooling  employed\n",
       "91004   55   40000  n/a or no schooling  employed\n",
       "210358  43   45000  n/a or no schooling  employed\n",
       "210579  56   25000  n/a or no schooling  employed\n",
       "136819  55   11000  n/a or no schooling  employed\n",
       "109429  54   20800  n/a or no schooling  employed\n",
       "124287  41   28100  n/a or no schooling  employed\n",
       "249677  53    9000  n/a or no schooling  employed\n",
       "126490  50   40000  n/a or no schooling  employed\n",
       "47139   61   30300  n/a or no schooling  employed\n",
       "243522  53   70000  n/a or no schooling  employed\n",
       "278367  50   10000  n/a or no schooling  employed\n",
       "38971   55     500  n/a or no schooling  employed\n",
       "316608  34   45000  n/a or no schooling  employed\n",
       "120096  16    2300  n/a or no schooling  employed"
      ]
     },
     "execution_count": 14,
     "metadata": {},
     "output_type": "execute_result"
    }
   ],
   "source": [
    "no_hs_avg_income = np.mean(\n",
    "    df_ipums_subset[\n",
    "        df_ipums_subset[\"educ\"]\n",
    "        == (\n",
    "            \"n/a or no schooling\"\n",
    "            or \"grade 5, 6, 7, or 8\"\n",
    "            or \"grade 9\"\n",
    "            or \"grade 10\"\n",
    "            or \"grade 11\"\n",
    "        )\n",
    "    ][\"inctot\"]\n",
    ")\n",
    "\n",
    "print(\n",
    "    f\"The average income for someone who has not finished highschool is ${no_hs_avg_income:.2f}\"\n",
    ")\n",
    "print(\n",
    "    f\"This suggests that the value of a highschool diploma is about ${(grade12_avg_income - no_hs_avg_income):.2f} in average income\"\n",
    ")\n",
    "\n",
    "df_ipums_subset[\n",
    "    df_ipums_subset[\"educ\"]\n",
    "    == (\n",
    "        \"n/a or no schooling\"\n",
    "        or \"grade 5, 6, 7, or 8\"\n",
    "        or \"grade 9\"\n",
    "        or \"grade 10\"\n",
    "        or \"grade 11\"\n",
    "    )\n",
    "].sample(50)"
   ]
  },
  {
   "cell_type": "markdown",
   "metadata": {},
   "source": [
    "### Exercise 15 \n",
    "\n",
    "Complete the following table (storing values under the provided keys where listed):\n",
    "\n",
    "- Average income for someone who only completed 9th grade (`ex15_grade_9`): _________\n",
    "- Average income for someone who only completed 10th grade (`ex15_grade_10`): _________\n",
    "- Average income for someone who only completed 11th grade (`ex15_grade_11`): _________\n",
    "- Average income for someone who finished high school (12th grade) but never started college (`ex15_grade_12`): _________\n",
    "- Average income for someone who completed 4 year of college (in the US, this corresponds to getting an undergraduate degree), but has no post-graduate education (no more than 4 years, `ex15_4_years_of_college`): _________\n",
    "- Average income for someone who has some graduate education (more than 4 years, `ex15_graduate`): _________"
   ]
  },
  {
   "cell_type": "code",
   "execution_count": 15,
   "metadata": {},
   "outputs": [
    {
     "name": "stdout",
     "output_type": "stream",
     "text": [
      "Average income for someone who only completed 9th grade: $27171.91\n",
      "Average income for someone who only completed 10th grade: $23018.80\n",
      "Average income for someone who only completed 11th grade: $21541.69\n",
      "Average income for someone who finished high school (12th grade) but never started college: $38957.76\n",
      "Average income for someone who completed 4 year of college, but has no post-graduate education (no more than 4 years: $75485.05\n",
      "Average income for someone who has some graduate education (more than 4 years: $110013.22\n"
     ]
    }
   ],
   "source": [
    "results[\"ex15_grade_9\"] = np.mean(\n",
    "    df_ipums_subset[df_ipums_subset[\"educ\"] == (\"grade 9\")][\"inctot\"]\n",
    ")\n",
    "results[\"ex15_grade_10\"] = np.mean(\n",
    "    df_ipums_subset[df_ipums_subset[\"educ\"] == (\"grade 10\")][\"inctot\"]\n",
    ")\n",
    "results[\"ex15_grade_11\"] = np.mean(\n",
    "    df_ipums_subset[df_ipums_subset[\"educ\"] == (\"grade 11\")][\"inctot\"]\n",
    ")\n",
    "results[\"ex15_grade_12\"] = np.mean(\n",
    "    df_ipums_subset[df_ipums_subset[\"educ\"] == (\"grade 12\")][\"inctot\"]\n",
    ")\n",
    "results[\"ex15_4_years_of_college\"] = np.mean(\n",
    "    df_ipums_subset[df_ipums_subset[\"educ\"] == (\"4 years of college\")][\"inctot\"]\n",
    ")\n",
    "results[\"ex15_graduate\"] = np.mean(\n",
    "    df_ipums_subset[df_ipums_subset[\"educ\"] == (\"5+ years of college\")][\"inctot\"]\n",
    ")\n",
    "print(\n",
    "    f\"Average income for someone who only completed 9th grade: ${results['ex15_grade_9']:.2f}\"\n",
    ")\n",
    "print(\n",
    "    f\"Average income for someone who only completed 10th grade: ${results['ex15_grade_10']:.2f}\"\n",
    ")\n",
    "print(\n",
    "    f\"Average income for someone who only completed 11th grade: ${results['ex15_grade_11']:.2f}\"\n",
    ")\n",
    "print(\n",
    "    f\"Average income for someone who finished high school (12th grade) but never started college: ${results['ex15_grade_12']:.2f}\"\n",
    ")\n",
    "print(\n",
    "    f\"Average income for someone who completed 4 year of college, but has no post-graduate education (no more than 4 years: ${results['ex15_4_years_of_college']:.2f}\"\n",
    ")\n",
    "print(\n",
    "    f\"Average income for someone who has some graduate education (more than 4 years: ${results['ex15_graduate']:.2f}\"\n",
    ")"
   ]
  },
  {
   "cell_type": "markdown",
   "metadata": {},
   "source": [
    "### Exercise 16 \n",
    "\n",
    "Why do you think there is no benefit from moving from grade 9 to grade 10, or grade 10 to grade 11, but there is a huge benefit to moving from grade 11 to graduating high school (grade 12)?\n",
    "\n",
    "(Think carefully before reading ahead!)"
   ]
  },
  {
   "cell_type": "markdown",
   "metadata": {},
   "source": [
    "Most likely this is because there is not much of a substantive gain of useful skills for the workforce (at least for what specific jobs people without highschool diplomas tend to go into). At the same time, the increase in income for people who have completed a high school diploma is likely because even though someone without a highschool might be just as qualified, someone with a highschool diploma is more likely to be hired for a higher-paying position."
   ]
  },
  {
   "cell_type": "markdown",
   "metadata": {},
   "source": [
    "## Take-aways\n",
    "\n",
    "Congratulations! You just discovered \"the sheepskin effect!\": people with degrees tend to earn substantially more than people who have *almost* as much education, but don't have an actual degree. \n",
    "\n",
    "In economics, this is viewed as evidence that the reason employers pay people with high school degrees more than those without degree is *not* that they think those who graduated high school have learned specific, useful skills. If that were the case, we would expect employee earnings to rise with every year of high school, since in each year of high school we learn more. \n",
    "\n",
    "Instead, this suggests employees pay high school graduates more because they think *the kind of people* who can finish high school are the *kind of people* who are likely to succeed at their jobs. Finishing high school, in other words, isn't about accumulating specific knowledge; it's about showing that you *are the kind of person* who can rise to the challenge of finishing high school, also suggesting you are also the kind of person who can succeed as an employee. \n",
    "\n",
    "(Obviously, this does not tell us whether that is an *accurate* inference, just that that seems to be how employeers think.) \n",
    "\n",
    "In other words, in the eyes of employers, a high school degree is a *signal* about the kind of person you are, not certification that you've learned a specific set of skills (an idea that earned [Michael Spence](https://en.wikipedia.org/wiki/Michael_Spence) a Nobel Prize in Economics). "
   ]
  }
 ],
 "metadata": {
  "kernelspec": {
   "display_name": "base",
   "language": "python",
   "name": "python3"
  },
  "language_info": {
   "codemirror_mode": {
    "name": "ipython",
    "version": 3
   },
   "file_extension": ".py",
   "mimetype": "text/x-python",
   "name": "python",
   "nbconvert_exporter": "python",
   "pygments_lexer": "ipython3",
   "version": "3.12.11"
  }
 },
 "nbformat": 4,
 "nbformat_minor": 4
}
